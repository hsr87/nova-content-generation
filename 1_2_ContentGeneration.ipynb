{
 "cells": [
  {
   "cell_type": "markdown",
   "id": "24c5f189-1f03-415e-9373-f363d7702cbe",
   "metadata": {},
   "source": [
    "# Image Generation"
   ]
  },
  {
   "cell_type": "markdown",
   "id": "ca523a43-eacf-403e-bd05-c4803f9ab4d6",
   "metadata": {},
   "source": [
    "## Text to image generation"
   ]
  },
  {
   "cell_type": "code",
   "execution_count": 2,
   "id": "f424ed14-029f-4ca3-8231-cf1f98dd6d93",
   "metadata": {
    "tags": []
   },
   "outputs": [],
   "source": [
    "import base64\n",
    "import io\n",
    "import json\n",
    "from typing import Dict, Any\n",
    "from botocore.config import Config\n",
    "\n",
    "import boto3\n",
    "from PIL import Image\n",
    "\n",
    "def generate_image(model_id: str, body: str) -> bytes:\n",
    "    bedrock = boto3.client(\n",
    "        service_name='bedrock-runtime',\n",
    "        config=Config(read_timeout=300)\n",
    "    )\n",
    "\n",
    "    response = bedrock.invoke_model(\n",
    "        body=body,\n",
    "        modelId=model_id,\n",
    "    )\n",
    "    \n",
    "    response_body = json.loads(response.get(\"body\").read())\n",
    "    base64_image = response_body.get(\"images\")[0]\n",
    "    base64_bytes = base64_image.encode('ascii')\n",
    "    image_bytes = base64.b64decode(base64_bytes)\n",
    "\n",
    "    return image_bytes\n",
    "\n",
    "model_id = 'amazon.nova-canvas-v1:0'\n",
    "prompt = \"Korean tteokbokki - spicy rice cakes in bright red sauce garnished with green onions.\"\n",
    "\n",
    "body = json.dumps({\n",
    "    \"taskType\": \"TEXT_IMAGE\",\n",
    "    \"textToImageParams\": {\n",
    "        \"text\": prompt\n",
    "    },\n",
    "    \"imageGenerationConfig\": {\n",
    "        \"numberOfImages\": 1,\n",
    "        \"height\": 512,\n",
    "        \"width\": 512,\n",
    "        \"cfgScale\": 8.0,\n",
    "        \"seed\": 0\n",
    "    }\n",
    "})\n",
    "\n",
    "image_bytes = generate_image(model_id=model_id, body=body)\n",
    "image = Image.open(io.BytesIO(image_bytes))\n",
    "image.save('food_gen.png',\"PNG\")"
   ]
  },
  {
   "cell_type": "code",
   "execution_count": 3,
   "id": "3dfae5fb-7a1b-4fc3-8b54-30f07b14a165",
   "metadata": {
    "tags": []
   },
   "outputs": [],
   "source": [
    "image.save('food_gen.png',\"PNG\")"
   ]
  },
  {
   "cell_type": "markdown",
   "id": "9945e694-b6b4-4f4e-98e7-1650a6dadd59",
   "metadata": {},
   "source": [
    "## Inpainting"
   ]
  },
  {
   "cell_type": "code",
   "execution_count": 4,
   "id": "213f34eb-bf67-4660-8c1d-8b57fcb1aaa1",
   "metadata": {
    "tags": []
   },
   "outputs": [],
   "source": [
    "# Convert saved image to base64 for inpainting\n",
    "with open(\"food_gen.png\", \"rb\") as image_file:\n",
    "    input_image = base64.b64encode(image_file.read()).decode('utf8')\n",
    "\n",
    "# Inpainting to remove green onions\n",
    "inpaint_body = json.dumps({\n",
    "    \"taskType\": \"INPAINTING\",\n",
    "    \"inPaintingParams\": {\n",
    "        \"text\": \"Korean tteokbokki - spicy rice cakes in bright red sauce\",\n",
    "        \"negativeText\": \"green onions, garnish\",\n",
    "        \"image\": input_image,\n",
    "        \"maskPrompt\": \"green onions\"\n",
    "    },\n",
    "    \"imageGenerationConfig\": {\n",
    "        \"numberOfImages\": 1,\n",
    "        \"height\": 512,\n",
    "        \"width\": 512,\n",
    "        \"cfgScale\": 8.0\n",
    "    }\n",
    "})\n",
    "\n",
    "# Generate and save the inpainted image\n",
    "inpainted_bytes = generate_image(model_id=model_id, body=inpaint_body)\n",
    "inpainted_image = Image.open(io.BytesIO(inpainted_bytes))\n",
    "inpainted_image.save('food_gen_no_onions.png', \"PNG\")"
   ]
  },
  {
   "cell_type": "markdown",
   "id": "6fa7652e-1660-4200-a24e-6fc6e936082e",
   "metadata": {},
   "source": [
    "## Bad inpainting example"
   ]
  },
  {
   "cell_type": "code",
   "execution_count": 5,
   "id": "b970e1cd-188f-4bcb-a5fd-b1a475d91d49",
   "metadata": {
    "tags": []
   },
   "outputs": [],
   "source": [
    "# Convert saved image to base64 for inpainting\n",
    "with open(\"food_gen.png\", \"rb\") as image_file:\n",
    "    input_image = base64.b64encode(image_file.read()).decode('utf8')\n",
    "\n",
    "# Inpainting to remove green onions with negative words (not working)\n",
    "inpaint_body = json.dumps({\n",
    "    \"taskType\": \"INPAINTING\",\n",
    "    \"inPaintingParams\": {\n",
    "        \"text\": \"Korean tteokbokki - spicy rice cakes in bright red sauce without green onions\",\n",
    "        # \"negativeText\": \"green onions, garnish\",\n",
    "        \"image\": input_image,\n",
    "        \"maskPrompt\": \"green onions\"\n",
    "    },\n",
    "    \"imageGenerationConfig\": {\n",
    "        \"numberOfImages\": 1,\n",
    "        \"height\": 512,\n",
    "        \"width\": 512,\n",
    "        \"cfgScale\": 8.0\n",
    "    }\n",
    "})\n",
    "\n",
    "# Generate and save the inpainted image\n",
    "inpainted_bytes = generate_image(model_id=model_id, body=inpaint_body)\n",
    "inpainted_image = Image.open(io.BytesIO(inpainted_bytes))\n",
    "inpainted_image.save('food_gen_no_onions_negative_word.png', \"PNG\")"
   ]
  },
  {
   "cell_type": "markdown",
   "id": "552d101d-97ab-4806-8a90-c1920f800e5c",
   "metadata": {},
   "source": [
    "## Image Variation"
   ]
  },
  {
   "cell_type": "code",
   "execution_count": 7,
   "id": "366e9486-e01a-4978-93b5-2e01d3e36849",
   "metadata": {
    "tags": []
   },
   "outputs": [],
   "source": [
    "# Convert saved image to base64 for variation\n",
    "with open(\"food_gen.png\", \"rb\") as image_file:\n",
    "    input_image = base64.b64encode(image_file.read()).decode('utf8')\n",
    "    \n",
    "# Generate cream sauce variation\n",
    "variation_body = json.dumps({\n",
    "    \"taskType\": \"IMAGE_VARIATION\",\n",
    "    \"imageVariationParams\": {\n",
    "        \"text\": \"Korean tteokbokki in creamy white sauce, rich and creamy texture\",\n",
    "        \"negativeText\": \"red sauce, spicy sauce, gochujang\",\n",
    "        \"images\": [input_image],\n",
    "        \"similarityStrength\": 0.5\n",
    "    },\n",
    "    \"imageGenerationConfig\": {\n",
    "        \"numberOfImages\": 1,\n",
    "        \"height\": 512,\n",
    "        \"width\": 512,\n",
    "        \"cfgScale\": 8.0\n",
    "    }\n",
    "})\n",
    "\n",
    "# Generate and save the variation image\n",
    "variation_bytes = generate_image(model_id=model_id, body=variation_body)\n",
    "variation_image = Image.open(io.BytesIO(variation_bytes))\n",
    "variation_image.save('food_gen_cream_sauce.png', \"PNG\")"
   ]
  },
  {
   "cell_type": "code",
   "execution_count": 8,
   "id": "012a5616-96d3-4142-a41e-033830f83e12",
   "metadata": {
    "tags": []
   },
   "outputs": [
    {
     "name": "stdout",
     "output_type": "stream",
     "text": [
      "{\n",
      "  \"ResponseMetadata\": {\n",
      "    \"RequestId\": \"348d16d1-8c7f-48f9-9b56-f85cf34556fc\",\n",
      "    \"HTTPStatusCode\": 200,\n",
      "    \"HTTPHeaders\": {\n",
      "      \"date\": \"Wed, 22 Jan 2025 01:29:31 GMT\",\n",
      "      \"content-type\": \"application/json\",\n",
      "      \"content-length\": \"84\",\n",
      "      \"connection\": \"keep-alive\",\n",
      "      \"x-amzn-requestid\": \"348d16d1-8c7f-48f9-9b56-f85cf34556fc\"\n",
      "    },\n",
      "    \"RetryAttempts\": 0\n",
      "  },\n",
      "  \"invocationArn\": \"arn:aws:bedrock:us-east-1:418272795925:async-invoke/a34g3i4i3g9c\"\n",
      "}\n"
     ]
    }
   ],
   "source": [
    "import json\n",
    "import boto3\n",
    "\n",
    "def generate_video(text: str, duration: int = 6) -> dict:\n",
    "    bedrock_runtime = boto3.client(\"bedrock-runtime\")\n",
    "    \n",
    "    model_input = {\n",
    "        \"taskType\": \"TEXT_VIDEO\",\n",
    "        \"textToVideoParams\": {\n",
    "            \"text\": text\n",
    "        },\n",
    "        \"videoGenerationConfig\": {\n",
    "            \"durationSeconds\": duration,\n",
    "            \"fps\": 24,\n",
    "            \"dimension\": \"1280x720\",\n",
    "            \"seed\": 0\n",
    "        }\n",
    "    }\n",
    "\n",
    "    response = bedrock_runtime.start_async_invoke(\n",
    "        modelId=\"amazon.nova-reel-v1:0\",\n",
    "        modelInput=model_input,\n",
    "        outputDataConfig={\n",
    "            \"s3OutputDataConfig\": {\n",
    "                \"s3Uri\": \"s3://my-nova-videos-korean-foods\"\n",
    "            }\n",
    "        }\n",
    "    )\n",
    "    \n",
    "    return response\n",
    "\n",
    "# Generate video\n",
    "text_prompt = \"steaming hot tteokbokki with rich gochujang sauce and chopped green onions on top\"\n",
    "result = generate_video(text=text_prompt)\n",
    "print(json.dumps(result, indent=2, default=str))"
   ]
  },
  {
   "cell_type": "code",
   "execution_count": null,
   "id": "d9228b81-2e7e-416b-b84a-7bf20093a28a",
   "metadata": {},
   "outputs": [],
   "source": []
  }
 ],
 "metadata": {
  "kernelspec": {
   "display_name": "nova-workshop",
   "language": "python",
   "name": "nova-workshop"
  },
  "language_info": {
   "codemirror_mode": {
    "name": "ipython",
    "version": 3
   },
   "file_extension": ".py",
   "mimetype": "text/x-python",
   "name": "python",
   "nbconvert_exporter": "python",
   "pygments_lexer": "ipython3",
   "version": "3.10.16"
  }
 },
 "nbformat": 4,
 "nbformat_minor": 5
}
